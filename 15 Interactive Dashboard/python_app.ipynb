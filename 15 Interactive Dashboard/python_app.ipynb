{
 "cells": [
  {
   "cell_type": "code",
   "execution_count": 1,
   "metadata": {},
   "outputs": [],
   "source": [
    "import os\n",
    "\n",
    "import pandas as pd\n",
    "import numpy as np\n",
    "\n",
    "import sqlalchemy\n",
    "from sqlalchemy.ext.automap import automap_base\n",
    "from sqlalchemy.orm import Session\n",
    "from sqlalchemy import create_engine\n",
    "\n",
    "from flask import Flask, jsonify, render_template\n",
    "from flask_sqlalchemy import SQLAlchemy"
   ]
  },
  {
   "cell_type": "code",
   "execution_count": 2,
   "metadata": {},
   "outputs": [],
   "source": [
    "app = Flask(__name__)"
   ]
  },
  {
   "cell_type": "code",
   "execution_count": 3,
   "metadata": {},
   "outputs": [
    {
     "name": "stderr",
     "output_type": "stream",
     "text": [
      "/Users/Nat-Mac/anaconda3/envs/PythonData/lib/python3.6/site-packages/flask_sqlalchemy/__init__.py:835: FSADeprecationWarning: SQLALCHEMY_TRACK_MODIFICATIONS adds significant overhead and will be disabled by default in the future.  Set it to True or False to suppress this warning.\n",
      "  'SQLALCHEMY_TRACK_MODIFICATIONS adds significant overhead and '\n"
     ]
    }
   ],
   "source": [
    "app.config[\"SQLALCHEMY_DATABASE_URI\"] = \"sqlite:///db/bellybutton.sqlite\"\n",
    "db = SQLAlchemy(app)\n",
    "\n",
    "app.config['SQLALCHEMY_TRACK_MODIFICATIONS'] = False"
   ]
  },
  {
   "cell_type": "code",
   "execution_count": 4,
   "metadata": {},
   "outputs": [],
   "source": [
    "Base = automap_base()"
   ]
  },
  {
   "cell_type": "code",
   "execution_count": 5,
   "metadata": {},
   "outputs": [],
   "source": [
    "Base.prepare(db.engine, reflect=True)"
   ]
  },
  {
   "cell_type": "code",
   "execution_count": 6,
   "metadata": {},
   "outputs": [],
   "source": [
    "Samples_Metadata = Base.classes.sample_metadata\n",
    "Samples = Base.classes.samples"
   ]
  },
  {
   "cell_type": "code",
   "execution_count": 7,
   "metadata": {},
   "outputs": [],
   "source": [
    "@app.route(\"/\")\n",
    "def index():\n",
    "    \"\"\"Return the homepage.\"\"\"\n",
    "    return render_template(\"index.html\")\n",
    "\n",
    "\n",
    "@app.route(\"/names\")\n",
    "def names():\n",
    "    \"\"\"Return a list of sample names.\"\"\"\n",
    "\n",
    "     # Use Pandas to perform the sql query\n",
    "    stmt = db.session.query(Samples).statement\n",
    "    df = pd.read_sql_query(stmt, db.session.bind)\n",
    "\n",
    "    # Return a list of the column names (sample names)\n",
    "    return jsonify(list(df.columns)[2:])"
   ]
  },
  {
   "cell_type": "code",
   "execution_count": 8,
   "metadata": {},
   "outputs": [],
   "source": [
    "@app.route(\"/metadata/<sample>\")\n",
    "def sample_metadata(sample):\n",
    "    \"\"\"Return the MetaData for a given sample.\"\"\"\n",
    "    sel = [\n",
    "        Samples_Metadata.sample,\n",
    "        Samples_Metadata.ETHNICITY,\n",
    "        Samples_Metadata.GENDER,\n",
    "        Samples_Metadata.AGE,\n",
    "        Samples_Metadata.LOCATION,\n",
    "        Samples_Metadata.BBTYPE,\n",
    "        Samples_Metadata.WFREQ,\n",
    "    ]\n",
    "\n",
    "    results = db.session.query(*sel).filter(Samples_Metadata.sample == sample).all()\n",
    "\n",
    "    # Create a dictionary entry for each row of metadata information\n",
    "    sample_metadata = {}\n",
    "    for result in results:\n",
    "        sample_metadata[\"sample\"] = result[0]\n",
    "        sample_metadata[\"ETHNICITY\"] = result[1]\n",
    "        sample_metadata[\"GENDER\"] = result[2]\n",
    "        sample_metadata[\"AGE\"] = result[3]\n",
    "        sample_metadata[\"LOCATION\"] = result[4]\n",
    "        sample_metadata[\"BBTYPE\"] = result[5]\n",
    "        sample_metadata[\"WFREQ\"] = result[6]\n",
    "\n",
    "    print(sample_metadata)\n",
    "    return jsonify(sample_metadata)"
   ]
  },
  {
   "cell_type": "code",
   "execution_count": 9,
   "metadata": {},
   "outputs": [],
   "source": [
    "@app.route(\"/samples/<sample>\")\n",
    "def samples(sample):\n",
    "    \"\"\"Return `otu_ids`, `otu_labels`,and `sample_values`.\"\"\"\n",
    "    stmt = db.session.query(Samples).statement\n",
    "    df = pd.read_sql_query(stmt, db.session.bind)\n",
    "\n",
    "    # Filter the data based on the sample number and\n",
    "    # only keep rows with values above 1\n",
    "    sample_data = df.loc[df[sample] > 1, [\"otu_id\", \"otu_label\", sample]]\n",
    "    # Format the data to send as json\n",
    "    data = {\n",
    "        \"otu_ids\": sample_data.otu_id.values.tolist(),\n",
    "        \"sample_values\": sample_data[sample].values.tolist(),\n",
    "        \"otu_labels\": sample_data.otu_label.tolist(),\n",
    "    }\n",
    "    return jsonify(data)"
   ]
  },
  {
   "cell_type": "code",
   "execution_count": null,
   "metadata": {},
   "outputs": [
    {
     "name": "stdout",
     "output_type": "stream",
     "text": [
      " * Serving Flask app \"__main__\" (lazy loading)\n",
      " * Environment: production\n",
      "   WARNING: Do not use the development server in a production environment.\n",
      "   Use a production WSGI server instead.\n",
      " * Debug mode: off\n"
     ]
    },
    {
     "name": "stderr",
     "output_type": "stream",
     "text": [
      " * Running on http://127.0.0.1:5000/ (Press CTRL+C to quit)\n",
      "127.0.0.1 - - [30/Jul/2019 19:29:05] \"\u001b[37mGET / HTTP/1.1\u001b[0m\" 200 -\n",
      "127.0.0.1 - - [30/Jul/2019 19:29:05] \"\u001b[37mGET /static/js/bonus.js HTTP/1.1\u001b[0m\" 200 -\n",
      "127.0.0.1 - - [30/Jul/2019 19:29:05] \"\u001b[37mGET /static/js/app.js HTTP/1.1\u001b[0m\" 200 -\n",
      "127.0.0.1 - - [30/Jul/2019 19:29:06] \"\u001b[33mGET /favicon.ico HTTP/1.1\u001b[0m\" 404 -\n",
      "127.0.0.1 - - [30/Jul/2019 19:29:06] \"\u001b[37mGET /names HTTP/1.1\u001b[0m\" 200 -\n",
      "127.0.0.1 - - [30/Jul/2019 19:29:06] \"\u001b[37mGET /metadata/940 HTTP/1.1\u001b[0m\" 200 -\n"
     ]
    },
    {
     "name": "stdout",
     "output_type": "stream",
     "text": [
      "{'sample': 940, 'ETHNICITY': 'Caucasian', 'GENDER': 'F', 'AGE': 24.0, 'LOCATION': 'Beaufort/NC', 'BBTYPE': 'I', 'WFREQ': 2.0}\n"
     ]
    },
    {
     "name": "stderr",
     "output_type": "stream",
     "text": [
      "127.0.0.1 - - [30/Jul/2019 19:29:07] \"\u001b[37mGET /samples/940 HTTP/1.1\u001b[0m\" 200 -\n"
     ]
    }
   ],
   "source": [
    "if __name__ == \"__main__\":\n",
    "    app.run()"
   ]
  },
  {
   "cell_type": "code",
   "execution_count": null,
   "metadata": {},
   "outputs": [],
   "source": []
  }
 ],
 "metadata": {
  "kernelspec": {
   "display_name": "Python 3",
   "language": "python",
   "name": "python3"
  },
  "language_info": {
   "codemirror_mode": {
    "name": "ipython",
    "version": 3
   },
   "file_extension": ".py",
   "mimetype": "text/x-python",
   "name": "python",
   "nbconvert_exporter": "python",
   "pygments_lexer": "ipython3",
   "version": "3.6.7"
  }
 },
 "nbformat": 4,
 "nbformat_minor": 2
}
